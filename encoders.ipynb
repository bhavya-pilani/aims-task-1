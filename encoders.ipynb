{
 "cells": [
  {
   "cell_type": "code",
   "execution_count": 1,
   "id": "b1ac5587-6c89-42f4-9c41-be58304a35bd",
   "metadata": {},
   "outputs": [],
   "source": [
    "class OrdinalEncoder:\n",
    "    def __init__(self, data):\n",
    "        self.data = data\n",
    "        self.val = 0\n",
    "        self.key_exhausted = {}\n",
    "\n",
    "    def encode_column(self, column):\n",
    "        if self.data[column].dtype == \"object\":\n",
    "            for i in self.data[column]:\n",
    "                if i not in self.key_exhausted:\n",
    "                    self.data[column] = self.data[column].replace(i, self.val)\n",
    "                    self.val += 1\n",
    "                    self.key_exhausted[i] = True\n",
    "\n",
    "    def encode_all_columns(self):\n",
    "        for column in self.data.columns:\n",
    "            self.encode_column(column)\n",
    "            self.val=0\n",
    "            self.key_exhausted = {}\n",
    "\n",
    "    def get_encoded_data(self):\n",
    "        return self.data"
   ]
  },
  {
   "cell_type": "code",
   "execution_count": 3,
   "id": "08d962ff-921c-40ec-8f54-1ecf8f3ecd15",
   "metadata": {},
   "outputs": [],
   "source": [
    "import pandas as pd\n",
    "\n",
    "class CustomOneHotEncoder:\n",
    "    def __init__(self, data):\n",
    "        self.data = data\n",
    "\n",
    "    def one_hot_encode_column(self, column):\n",
    "        one_hot_df = pd.get_dummies(self.data[column], prefix=\"\", prefix_sep=\"\")\n",
    "        self.data = pd.concat([self.data, one_hot_df], axis=1)\n",
    "        self.data = self.data.drop(column, axis=1)\n",
    "\n",
    "    def one_hot_encode_all_columns(self):\n",
    "        for column in self.data.columns:\n",
    "            if self.data[column].dtype == \"object\":\n",
    "                self.one_hot_encode_column(column)\n",
    "\n",
    "    def get_encoded_data(self):\n",
    "        return self.data"
   ]
  },
  {
   "cell_type": "code",
   "execution_count": null,
   "id": "827197fb-c031-46b2-a06a-b2b844b2f310",
   "metadata": {},
   "outputs": [],
   "source": []
  }
 ],
 "metadata": {
  "kernelspec": {
   "display_name": "Python 3 (ipykernel)",
   "language": "python",
   "name": "python3"
  },
  "language_info": {
   "codemirror_mode": {
    "name": "ipython",
    "version": 3
   },
   "file_extension": ".py",
   "mimetype": "text/x-python",
   "name": "python",
   "nbconvert_exporter": "python",
   "pygments_lexer": "ipython3",
   "version": "3.11.4"
  }
 },
 "nbformat": 4,
 "nbformat_minor": 5
}
