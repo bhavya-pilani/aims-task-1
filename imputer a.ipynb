{
 "cells": [
  {
   "cell_type": "code",
   "execution_count": 5,
   "id": "f567caac-07e6-447d-a9bc-63a54d636958",
   "metadata": {},
   "outputs": [],
   "source": [
    "import numpy as np\n",
    "import pandas as pd"
   ]
  },
  {
   "cell_type": "code",
   "execution_count": 6,
   "id": "8f5da884-c928-45af-a981-3884cff85587",
   "metadata": {},
   "outputs": [],
   "source": [
    "def simple_imputer(data, strategy='mean', fill_value=None):\n",
    "    \n",
    "    imputed_df = df.copy()\n",
    "    for column in df.columns:\n",
    "        if strategy == \"mean\":\n",
    "            imputed_df[column] = df[column].fillna(df[column].mean())\n",
    "        elif strategy == \"median\":\n",
    "            imputed_df[column] = df[column].fillna(df[column].median())\n",
    "        elif strategy in [\"mode\", \"most_frequent\"]:\n",
    "            imputed_df[column] = df[column].fillna(\n",
    "                df[column].mode().iloc[0]\n",
    "            )  # iloc[0] for getting first value of mode if many vals\n",
    "        elif strategy == \"constant\":\n",
    "            imputed_df[column] = df[column].fillna(fill_value)\n",
    "        else:\n",
    "            raise ValueError(\"Invalid Imputation Strategy\")\n",
    "    return imputed_df\n",
    "\n"
   ]
  }
 ],
 "metadata": {
  "kernelspec": {
   "display_name": "Python 3 (ipykernel)",
   "language": "python",
   "name": "python3"
  },
  "language_info": {
   "codemirror_mode": {
    "name": "ipython",
    "version": 3
   },
   "file_extension": ".py",
   "mimetype": "text/x-python",
   "name": "python",
   "nbconvert_exporter": "python",
   "pygments_lexer": "ipython3",
   "version": "3.11.4"
  }
 },
 "nbformat": 4,
 "nbformat_minor": 5
}
